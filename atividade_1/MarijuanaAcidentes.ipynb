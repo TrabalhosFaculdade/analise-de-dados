{
 "cells": [
  {
   "cell_type": "markdown",
   "metadata": {},
   "source": [
    "### TIAS\n",
    "\n",
    "\n",
    "\n",
    "\n",
    "\n",
    "TIA 316.8767-9\n",
    "\n",
    "Caio\n",
    "TIA 318.9136-5\n",
    "\n",
    "Lucas\n",
    "TIA 415.5288-1\n",
    "\n",
    "| Nome | TIA |\n",
    "| ------------- | ------------- |\n",
    "| Carol  |  318.4734-1  |\n",
    "|  Daniel   |  31500129  |\n",
    "|  Virgínia Maria S. Melo Baroni    | 31844960  |\n",
    "|  Werner W. Marin    |  31301614  |"
   ]
  },
  {
   "cell_type": "code",
   "execution_count": 14,
   "metadata": {},
   "outputs": [
    {
     "data": {
      "image/png": "[encoded data removed]",
      "text/plain": [
       "<Figure size 432x288 with 1 Axes>"
      ]
     },
     "metadata": {},
     "output_type": "display_data"
    }
   ],
   "source": [
    "import matplotlib.pyplot as plt\n",
    "\n",
    "y_pos = [13,16,21,32]\n",
    "x_pos = ['Nunca','1 até 10','11 até 50', '51+']\n",
    "\n",
    "plt.title('Uso de marijuana por ano')\n",
    "plt.ylabel('Taxa de acidentes (%)')\n",
    "plt.xlabel('Classes de uso de marijuana')\n",
    "plt.yticks(y_pos, ('13%','16%','21%', '32%'))\n",
    "\n",
    "plt.bar(x_pos, y_pos)\n",
    "plt.show()"
   ]
  },
  {
   "cell_type": "markdown",
   "metadata": {},
   "source": [
    "#### (A)\n",
    "Porque a proporcionalidade da quantidade de dados para uma determinada faixa de idade é um fator de influênicia, e a representação pensando apenas nos valores absolutos implica em valores igualmente distribuídos. \n",
    "\n",
    "#### (B)\n",
    "Quanto maior o consumo maior a probabilidade de provocar acidentes, embora isso não signifique que a marijuana cause acidentes, pois a outros diversos fatores e situações pra analisar para poder criar uma conclusão."
   ]
  }
 ],
 "metadata": {
  "kernelspec": {
   "display_name": "Python 3",
   "language": "python",
   "name": "python3"
  },
  "language_info": {
   "codemirror_mode": {
    "name": "ipython",
    "version": 3
   },
   "file_extension": ".py",
   "mimetype": "text/x-python",
   "name": "python",
   "nbconvert_exporter": "python",
   "pygments_lexer": "ipython3",
   "version": "3.6.5"
  }
 },
 "nbformat": 4,
 "nbformat_minor": 2
}
